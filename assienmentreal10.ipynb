{
 "cells": [
  {
   "cell_type": "code",
   "execution_count": 49,
   "id": "0e26cceb-5781-4ea3-877b-bb07fb8a0a57",
   "metadata": {},
   "outputs": [],
   "source": [
    "# Q1, Create a vehicle class with an init method having instance variables as name_of_vehicle, max_speed\n",
    "# and average_of_vehicle.\n"
   ]
  },
  {
   "cell_type": "code",
   "execution_count": 50,
   "id": "295b5c69-411e-4021-8f51-758279bc61a5",
   "metadata": {},
   "outputs": [],
   "source": [
    "class vehicle:\n",
    "    def __init__(self,name_of_vehicle,max_speed,avg_of_vehicle):\n",
    "        self.name_of_vehicle=name_of_vehicle\n",
    "        self.max_speed=max_speed\n",
    "        self.avg_of_vehicle=avg_of_vehicle\n",
    "        \n",
    "    def vehicle_detail(self):\n",
    "        return self.name_of_vehicle,self.max_speed,self.avg_of_vehicle\n",
    "        "
   ]
  },
  {
   "cell_type": "code",
   "execution_count": 51,
   "id": "a4c7ead4-ee6c-4753-82ef-8fa92a9155ff",
   "metadata": {},
   "outputs": [],
   "source": [
    "Tata=vehicle('tiago',240,18)\n"
   ]
  },
  {
   "cell_type": "code",
   "execution_count": 52,
   "id": "e3b83e1c-0027-44a3-9a57-2e4c8d608861",
   "metadata": {},
   "outputs": [
    {
     "data": {
      "text/plain": [
       "'tiago'"
      ]
     },
     "execution_count": 52,
     "metadata": {},
     "output_type": "execute_result"
    }
   ],
   "source": [
    "Tata.name_of_vehicle"
   ]
  },
  {
   "cell_type": "code",
   "execution_count": 53,
   "id": "06dbfc67-ba96-48b6-968e-e174fa4764be",
   "metadata": {},
   "outputs": [
    {
     "data": {
      "text/plain": [
       "240"
      ]
     },
     "execution_count": 53,
     "metadata": {},
     "output_type": "execute_result"
    }
   ],
   "source": [
    "Tata.max_speed"
   ]
  },
  {
   "cell_type": "code",
   "execution_count": 54,
   "id": "6acae099-347a-4c90-b773-651800e35f33",
   "metadata": {},
   "outputs": [
    {
     "data": {
      "text/plain": [
       "'tiago'"
      ]
     },
     "execution_count": 54,
     "metadata": {},
     "output_type": "execute_result"
    }
   ],
   "source": [
    "Tata.name_of_vehicle"
   ]
  },
  {
   "cell_type": "code",
   "execution_count": 55,
   "id": "58c9b0ee-cf49-42c0-9879-6c591220ca46",
   "metadata": {},
   "outputs": [],
   "source": [
    "#Q2. Create a child class car from the vehicle class created in Que 1, which will inherit the vehicle class.\n",
    "#Create a method named seating_capacity which takes capacity as an argument and returns the name of\n",
    "#the vehicle and its seating capacity."
   ]
  },
  {
   "cell_type": "code",
   "execution_count": 56,
   "id": "e6d69a25-bc38-49c1-b146-c5d4b59fad5e",
   "metadata": {},
   "outputs": [],
   "source": [
    "class vehicle:\n",
    "    def __init__(self,name_of_vehicle,max_speed,avg_of_vehicle):\n",
    "        self.name_of_vehicle=name_of_vehicle\n",
    "        self.max_speed=max_speed\n",
    "        self.avg_of_vehicle=avg_of_vehicle\n",
    "        \n",
    "class car(vehicle):\n",
    "    def seating_capacity(self,capacity):\n",
    "        self.capacity=capacity\n",
    "        \n",
    "        return f\" {self.name_of_vehicle} have {self.capacity}\""
   ]
  },
  {
   "cell_type": "code",
   "execution_count": 57,
   "id": "da8e1154-6a20-433b-8ccf-45d31ff5de5f",
   "metadata": {},
   "outputs": [
    {
     "name": "stdout",
     "output_type": "stream",
     "text": [
      " swift have 5\n"
     ]
    }
   ],
   "source": [
    "mycar=car('swift',240,12)\n",
    "print(mycar.seating_capacity(5))\n",
    "        "
   ]
  },
  {
   "cell_type": "code",
   "execution_count": 58,
   "id": "6b93c786-3dc3-429d-9543-3785a44cd852",
   "metadata": {},
   "outputs": [],
   "source": [
    "#Q3. What is multiple inheritance? Write a python code to demonstrate multiple inheritance."
   ]
  },
  {
   "cell_type": "code",
   "execution_count": 59,
   "id": "df398898-72e3-4aa5-8096-ca1e0cebc211",
   "metadata": {},
   "outputs": [],
   "source": [
    "# Ans _Multiple inheritance is a feature of some object-oriented computer programming\n",
    "#languages in which an object or class can inherit features from more than one parent\n",
    "#object or parent class."
   ]
  },
  {
   "cell_type": "code",
   "execution_count": 60,
   "id": "6662109a-e879-4e3d-82aa-db96898504d3",
   "metadata": {},
   "outputs": [],
   "source": [
    "class A:\n",
    "    def A_is(self):\n",
    "        print('it is class A')\n",
    "        "
   ]
  },
  {
   "cell_type": "code",
   "execution_count": 61,
   "id": "9ad95f2d-4b6b-41db-b9f8-690a69d92168",
   "metadata": {},
   "outputs": [],
   "source": [
    "class B:\n",
    "    def B_is(self):\n",
    "        print('it is class B')"
   ]
  },
  {
   "cell_type": "code",
   "execution_count": 62,
   "id": "4db257dc-acba-430d-909b-a611f33258df",
   "metadata": {},
   "outputs": [],
   "source": [
    "class C(A,B):\n",
    "    def C_is(self):\n",
    "        print('it is class C')"
   ]
  },
  {
   "cell_type": "code",
   "execution_count": 64,
   "id": "f4266919-a371-4d03-a992-0072acbd334e",
   "metadata": {},
   "outputs": [],
   "source": [
    "objecti=C()"
   ]
  },
  {
   "cell_type": "code",
   "execution_count": 65,
   "id": "2d47b13e-37c7-411d-ac62-ed14fe2afaf6",
   "metadata": {},
   "outputs": [
    {
     "name": "stdout",
     "output_type": "stream",
     "text": [
      "it is class A\n",
      "it is class B\n",
      "it is class C\n"
     ]
    }
   ],
   "source": [
    "objecti.A_is()\n",
    "objecti.B_is()\n",
    "objecti.C_is()"
   ]
  },
  {
   "cell_type": "code",
   "execution_count": 66,
   "id": "3acf7fbd-72b0-4601-82c6-26b28763e330",
   "metadata": {},
   "outputs": [],
   "source": [
    "#Q4. What are getter and setter in python? Create a class and create a getter and a setter method in this\n",
    "#class."
   ]
  },
  {
   "cell_type": "code",
   "execution_count": 67,
   "id": "abcf5ba7-e4cf-493b-8682-f5a13b4a0f34",
   "metadata": {},
   "outputs": [],
   "source": [
    "#Ans_ Getter: A method that allows you to access an attribute in a given class. Setter: A\n",
    "#method that allows you to set or mutate the value of an attribute in a class.\n",
    "# its provide a method where you get the data and set the data without know main function."
   ]
  },
  {
   "cell_type": "code",
   "execution_count": 68,
   "id": "8aeccb71-c736-4c5f-908d-8b11366fe09c",
   "metadata": {},
   "outputs": [],
   "source": [
    "class Ram:\n",
    "    \n",
    "    def __init__(self, age_):\n",
    "        self.age_=age_\n",
    "        #get the age\n",
    "    def get_age(self):\n",
    "        return self.age_\n",
    "    # set_age\n",
    "    def set_age(self,x):\n",
    "        self.age_=x"
   ]
  },
  {
   "cell_type": "code",
   "execution_count": 69,
   "id": "b0822ba1-07a0-4944-a45f-e9513e039833",
   "metadata": {},
   "outputs": [],
   "source": [
    "oj=Ram(12)"
   ]
  },
  {
   "cell_type": "code",
   "execution_count": 70,
   "id": "2484c9a3-b226-4969-8760-326fc3d410d0",
   "metadata": {},
   "outputs": [
    {
     "data": {
      "text/plain": [
       "12"
      ]
     },
     "execution_count": 70,
     "metadata": {},
     "output_type": "execute_result"
    }
   ],
   "source": [
    "oj.get_age()"
   ]
  },
  {
   "cell_type": "code",
   "execution_count": 71,
   "id": "aaa92afe-a893-4135-bbd8-2260f8f6cab1",
   "metadata": {},
   "outputs": [],
   "source": [
    "oj.set_age(34)"
   ]
  },
  {
   "cell_type": "code",
   "execution_count": 72,
   "id": "ea4f2dc9-2477-4493-945b-07884ae3aa56",
   "metadata": {},
   "outputs": [
    {
     "data": {
      "text/plain": [
       "34"
      ]
     },
     "execution_count": 72,
     "metadata": {},
     "output_type": "execute_result"
    }
   ],
   "source": [
    "oj.get_age()"
   ]
  },
  {
   "cell_type": "code",
   "execution_count": 73,
   "id": "58aae0a6-ae56-463c-9eea-19c8ab0b8295",
   "metadata": {},
   "outputs": [],
   "source": [
    "# Q5.What is method overriding in python? Write a python code to demonstrate method \n",
    "# overriding."
   ]
  },
  {
   "cell_type": "code",
   "execution_count": 48,
   "id": "d0942b09-fcf8-4c56-a0ab-3b0a9ecf330f",
   "metadata": {},
   "outputs": [],
   "source": [
    "#Ans_Method overriding in Python is when you have two methods with the same name that \n",
    "#each perform different tasks. This is an important feature of inheritance in Python. In\n",
    "#method overriding, the child class can change its functions that are defined by its\n",
    "#ancestral classes"
   ]
  },
  {
   "cell_type": "code",
   "execution_count": 47,
   "id": "e89979e6-093f-46f1-ab90-148a3e3bbcd2",
   "metadata": {},
   "outputs": [
    {
     "name": "stdout",
     "output_type": "stream",
     "text": [
      "Inside Parent\n",
      "Inside Child\n"
     ]
    }
   ],
   "source": [
    "class Parent():\n",
    "      \n",
    "    # Constructor\n",
    "    def __init__(self):\n",
    "        self.value = \"Inside Parent\"\n",
    "          \n",
    "    # Parent's show method\n",
    "    def show(self):\n",
    "        print(self.value)\n",
    "          \n",
    "# Defining child class\n",
    "class Child(Parent):\n",
    "      \n",
    "    # Constructor\n",
    "    def __init__(self):\n",
    "        self.value = \"Inside Child\"\n",
    "          \n",
    "    # Child's show method\n",
    "    def show(self):\n",
    "        print(self.value)\n",
    "  # Driver's code\n",
    "obj1 = Parent()\n",
    "obj2 = Child()\n",
    "  \n",
    "obj1.show()\n",
    "obj2.show()      \n",
    "        "
   ]
  },
  {
   "cell_type": "code",
   "execution_count": null,
   "id": "bf10fa39-2862-448e-99f0-59651cdccf27",
   "metadata": {},
   "outputs": [],
   "source": []
  }
 ],
 "metadata": {
  "kernelspec": {
   "display_name": "Python 3 (ipykernel)",
   "language": "python",
   "name": "python3"
  },
  "language_info": {
   "codemirror_mode": {
    "name": "ipython",
    "version": 3
   },
   "file_extension": ".py",
   "mimetype": "text/x-python",
   "name": "python",
   "nbconvert_exporter": "python",
   "pygments_lexer": "ipython3",
   "version": "3.10.8"
  }
 },
 "nbformat": 4,
 "nbformat_minor": 5
}
